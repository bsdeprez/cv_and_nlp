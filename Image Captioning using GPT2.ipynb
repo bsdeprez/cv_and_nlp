{
 "cells": [
  {
   "cell_type": "markdown",
   "metadata": {},
   "source": [
    "# Image Captioning using ViT and GPT2\n",
    "The goal of this notebook is to find accurate descriptions about the person displayed on an image. To do this, we can use a combination of both the ViT and the GPT2 model.  \n",
    "ViT is a visual model based on the architecture of a transformer originally designed for text-based tasks. The model represents an input image as a series of image patches, like the series of word embeddings used when using transformers to text, and directly predicts class labels for the image.  \n",
    "GPT-2 is a large transformer-based language model with 1.5 billion parameters, trained on a dataset of 8 million webpages."
   ]
  },
  {
   "cell_type": "code",
   "execution_count": null,
   "metadata": {},
   "outputs": [],
   "source": [
    "from datasets import Dataset, DatasetDict\n",
    "import pandas as pd\n",
    "import random\n",
    "from pathlib import Path\n",
    "from IPython.display import display\n",
    "from PIL import Image"
   ]
  },
  {
   "cell_type": "code",
   "execution_count": 2,
   "metadata": {},
   "outputs": [],
   "source": [
    "MODEL = \"nlpconnect/vit-gpt2-image-captioning\"\n",
    "MAX_LENGTH = 25\n",
    "NUM_BEAMS = 4\n",
    "gen_kwargs = {\"max_length\": MAX_LENGTH, \"num_beams\": NUM_BEAMS}"
   ]
  },
  {
   "cell_type": "markdown",
   "metadata": {
    "pycharm": {
     "name": "#%% md\n"
    }
   },
   "source": [
    "## Set up the data set\n",
    "RSTPReid contains 20505 images of 4101 persons from 15 cameras. Each person has 5 corresponding images taken by different cameras with complex both indoor and outdoor scene transformations and backgrounds in various periods of time. Each image is annotated with 2 textual descriptions."
   ]
  },
  {
   "cell_type": "code",
   "execution_count": 3,
   "metadata": {},
   "outputs": [],
   "source": [
    "dataset_base_path = Path().resolve().parent / 'RSTPReid'\n",
    "image_path = dataset_base_path / 'imgs'"
   ]
  },
  {
   "cell_type": "markdown",
   "metadata": {},
   "source": [
    "### Splitting the data set\n",
    "The dataset should be split into a train, test, and validation set. Luckily, the dataset has already done this for us."
   ]
  },
  {
   "cell_type": "code",
   "execution_count": 4,
   "metadata": {},
   "outputs": [],
   "source": [
    "def splitDataSet():\n",
    "    description = dataset_base_path / 'data_captions.json'\n",
    "    if not description.exists():\n",
    "        raise FileNotFoundError(f\"Couldn't find the description file at {description}.\")\n",
    "    df = pd.read_json(description)\n",
    "    df['img_path'] = image_path / df['img_path']\n",
    "    df['img_path'] = df['img_path'].astype('str')\n",
    "    df.loc[:, 'captions'] = df.captions.map(lambda x: x[0])\n",
    "    train, val, test = df[df['split'] == 'train'], df[df['split'] == 'val'], df[df['split'] == 'test']\n",
    "    return train.reset_index(drop=True), val.reset_index(drop=True), test.reset_index(drop=True)"
   ]
  },
  {
   "cell_type": "code",
   "execution_count": 5,
   "metadata": {},
   "outputs": [],
   "source": [
    "def convertDataSet(df):\n",
    "    new = df[['img_path', 'captions']]\n",
    "    dataset = Dataset.from_dict(new)\n",
    "    return dataset"
   ]
  },
  {
   "cell_type": "code",
   "execution_count": 6,
   "metadata": {},
   "outputs": [],
   "source": [
    "train_df, val_df, test_df = splitDataSet()\n",
    "dataset_dict = DatasetDict({\"train\": convertDataSet(train_df), \"val\": convertDataSet(val_df), \"test\": convertDataSet(test_df)})"
   ]
  },
  {
   "cell_type": "code",
   "execution_count": 7,
   "metadata": {},
   "outputs": [
    {
     "name": "stdout",
     "output_type": "stream",
     "text": [
      "Number of training examples: 18505\n",
      "Number of validation examples: 1000\n",
      "Number of test examples: 1000\n"
     ]
    }
   ],
   "source": [
    "print(f\"Number of training examples: {len(dataset_dict['train'])}\")\n",
    "print(f\"Number of validation examples: {len(dataset_dict['val'])}\")\n",
    "print(f\"Number of test examples: {len(dataset_dict['test'])}\")"
   ]
  },
  {
   "cell_type": "code",
   "execution_count": 8,
   "metadata": {},
   "outputs": [
    {
     "data": {
      "image/png": "[encoded data removed]",
      "text/plain": [
       "<PIL.JpegImagePlugin.JpegImageFile image mode=RGB size=82x175>"
      ]
     },
     "metadata": {},
     "output_type": "display_data"
    },
    {
     "name": "stdout",
     "output_type": "stream",
     "text": [
      "A man walking forward wearing a fashion hat,a heavy stripped gray overcoat with long sleeves and a dark pants.He takes a handbag.\n"
     ]
    }
   ],
   "source": [
    "random_sample = random.randint(0, len(dataset_dict['train']))\n",
    "example = dataset_dict['train'][random_sample]\n",
    "\n",
    "img = Image.open(example['img_path'])\n",
    "display(img)\n",
    "img.close()\n",
    "print(example['captions'])"
   ]
  },
  {
   "cell_type": "markdown",
   "metadata": {},
   "source": [
    "## Set up the base model"
   ]
  },
  {
   "cell_type": "code",
   "execution_count": 40,
   "metadata": {},
   "outputs": [],
   "source": [
    "from transformers import VisionEncoderDecoderModel, ViTImageProcessor, AutoTokenizer\n",
    "import torch\n",
    "import numpy as np\n",
    "import evaluate\n",
    "import nltk\n",
    "try:\n",
    "    nltk.data.find(\"tokenizers/punkt\")\n",
    "except (LookupError, OSError):\n",
    "    nltk.download(\"punkt\", quiet=True)"
   ]
  },
  {
   "cell_type": "code",
   "execution_count": 10,
   "metadata": {
    "scrolled": true
   },
   "outputs": [],
   "source": [
    "base_model = VisionEncoderDecoderModel.from_pretrained(MODEL)\n",
    "feature_extractor = ViTImageProcessor.from_pretrained(MODEL)\n",
    "tokenizer = AutoTokenizer.from_pretrained(MODEL)\n",
    "\n",
    "device = torch.device(\"cuda\" if torch.cuda.is_available() else \"cpu\")\n",
    "base_model = base_model.to(device)"
   ]
  },
  {
   "cell_type": "code",
   "execution_count": 31,
   "metadata": {},
   "outputs": [],
   "source": [
    "def preprocess_image(img_paths):\n",
    "    images = []\n",
    "    for img_path in img_paths:\n",
    "        i_image = Image.open(img_path)\n",
    "        if i_image.mode != \"RGB\":\n",
    "            i_image = i_image.convert(mode=\"RGB\")\n",
    "        images.append(i_image)\n",
    "    pixel_values = feature_extractor(images=images, return_tensors=\"pt\").pixel_values\n",
    "    pixel_values = pixel_values.to(device)\n",
    "    return pixel_values"
   ]
  },
  {
   "cell_type": "code",
   "execution_count": 32,
   "metadata": {},
   "outputs": [],
   "source": [
    "def predict(model, pixel_values):\n",
    "    output_ids = model.generate(pixel_values, **gen_kwargs)\n",
    "    preds = tokenizer.batch_decode(output_ids, skip_special_tokens=True)\n",
    "    preds = [pred.strip() for pred in preds]\n",
    "    return preds"
   ]
  },
  {
   "cell_type": "code",
   "execution_count": 46,
   "metadata": {},
   "outputs": [
    {
     "name": "stdout",
     "output_type": "stream",
     "text": [
      "['a woman walking down the street with a bag']\n"
     ]
    }
   ],
   "source": [
    "pixel_values = preprocess_image([example['img_path']])\n",
    "preds = predict(base_model, pixel_values)\n",
    "print(preds)"
   ]
  },
  {
   "cell_type": "markdown",
   "metadata": {},
   "source": [
    "## Investigating the Base Behaviour of the model (without retraining any layers)\n",
    "Start by predicting the example image"
   ]
  },
  {
   "cell_type": "markdown",
   "metadata": {},
   "source": [
    "### Define an evaluation metric\n",
    "I've chosen the ROUGE metrics, as they are used for machine translation and summaries. Alternatives would be BLUE, NIST, METEOR, and WER (but that last one is bad)."
   ]
  },
  {
   "cell_type": "code",
   "execution_count": 44,
   "metadata": {},
   "outputs": [],
   "source": [
    "metric = evaluate.load(\"rouge\")"
   ]
  },
  {
   "cell_type": "code",
   "execution_count": 37,
   "metadata": {},
   "outputs": [],
   "source": [
    "def postprocess_text(list_of_sentences, separator='\\n'):\n",
    "    list_of_sentences = [sentence.strip() for sentence in list_of_sentences]\n",
    "    if separator is not None:\n",
    "        tokens = [\"\\n\".join(nltk.sent_tokenize(sentence)) for sentence in list_of_sentences]\n",
    "    else:\n",
    "        tokens = [nltk.sent_tokenize(sentence) for sentence in list_of_sentences]\n",
    "    return tokens"
   ]
  },
  {
   "cell_type": "code",
   "execution_count": 42,
   "metadata": {},
   "outputs": [],
   "source": [
    "def compute_metrics(predictions, labels):\n",
    "    preds, lbls = postprocess_text(predictions), postprocess_text(labels)\n",
    "    result = metric.compute(predictions=preds, references=lbls, use_stemmer=True)\n",
    "    result = {k: round(v * 100, 4) for k, v in result.items()}\n",
    "    prediction_lens = [np.count_nonzero(pred != tokenizer.pad_token_id) for pred in predictions]\n",
    "    result[\"gen_len\"] = np.mean(prediction_lens)\n",
    "    return result"
   ]
  },
  {
   "cell_type": "code",
   "execution_count": 45,
   "metadata": {},
   "outputs": [
    {
     "data": {
      "text/plain": [
       "{'rouge1': 24.2424,\n",
       " 'rouge2': 0.0,\n",
       " 'rougeL': 24.2424,\n",
       " 'rougeLsum': 24.2424,\n",
       " 'gen_len': 1.0}"
      ]
     },
     "execution_count": 45,
     "metadata": {},
     "output_type": "execute_result"
    }
   ],
   "source": [
    "compute_metrics(preds, [example['captions']])"
   ]
  },
  {
   "cell_type": "code",
   "execution_count": null,
   "metadata": {},
   "outputs": [],
   "source": []
  }
 ],
 "metadata": {
  "kernelspec": {
   "display_name": "cvnlp",
   "language": "python",
   "name": "cvnlp"
  },
  "language_info": {
   "codemirror_mode": {
    "name": "ipython",
    "version": 3
   },
   "file_extension": ".py",
   "mimetype": "text/x-python",
   "name": "python",
   "nbconvert_exporter": "python",
   "pygments_lexer": "ipython3",
   "version": "3.9.12"
  }
 },
 "nbformat": 4,
 "nbformat_minor": 1
}
