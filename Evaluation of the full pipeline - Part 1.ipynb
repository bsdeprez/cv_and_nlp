{
 "cells": [
  {
   "cell_type": "markdown",
   "id": "1c208be8-e741-4054-a86b-dd8ee31f80bd",
   "metadata": {},
   "source": [
    "# Full Pipeline for Automated Passenger Tracking - Evaluation\n",
    "This notebook contains the evaluation of the full pipeline. It also shows how the full pipeline works. The testset used in this notebook was a custom dataset, which consists of frames from real train CCTV footage, provided to us by Televic GSP/Rail, which has been manually annotated by the authors of this notebook."
   ]
  },
  {
   "cell_type": "markdown",
   "id": "69a72a80-ec25-4d2e-a5c5-3b9cfbecb7dd",
   "metadata": {},
   "source": [
    "## Step 0: Reading in the test-data.\n",
    "In this step, we'll read in and parse the raw annotated testset. After each step, we'll save the progress, so we don't have to rerun the entire pipeline every time we want to update our code."
   ]
  },
  {
   "cell_type": "code",
   "execution_count": 1,
   "id": "19b1f616-6cf2-4292-84cc-53e7c541a3f0",
   "metadata": {
    "tags": []
   },
   "outputs": [],
   "source": [
    "import os\n",
    "import json\n",
    "import pandas as pd\n",
    "from tqdm import tqdm\n",
    "from pathlib import Path"
   ]
  },
  {
   "cell_type": "code",
   "execution_count": 2,
   "id": "0bdb3045-4338-44ad-88c2-2fbe76346465",
   "metadata": {
    "tags": []
   },
   "outputs": [],
   "source": [
    "# Define some constants and paths\n",
    "test_set_folder = Path().resolve() / 'testset'\n",
    "image_folder = test_set_folder / 'images'\n",
    "description_folder = test_set_folder / 'descriptions'\n",
    "assert test_set_folder.exists(), \"Can't find the folder containing the testset\"\n",
    "assert image_folder.exists(), \"Can't find the folder containing the testset images\"\n",
    "assert description_folder.exists(), \"Can't find the folder containing the testset description jsons\""
   ]
  },
  {
   "cell_type": "code",
   "execution_count": 3,
   "id": "255858bf-4c7a-4446-b34b-1b56eb70f6fd",
   "metadata": {
    "tags": []
   },
   "outputs": [
    {
     "name": "stderr",
     "output_type": "stream",
     "text": [
      "100%|██████████| 23/23 [00:00<00:00, 2090.97it/s]\n"
     ]
    }
   ],
   "source": [
    "all_data = []\n",
    "for json_file in tqdm(os.listdir(description_folder)):\n",
    "    with open(description_folder / json_file, \"r\") as fd:\n",
    "        data = json.load(fd)\n",
    "    source_file = Path(data[\"asset\"]['path']).name\n",
    "    for region in data['regions']:\n",
    "        tag = region['tags'][0]\n",
    "        point1, point2 = [(region['points'][0]['x'], region['points'][0]['y']), (region['points'][2]['x'], region['points'][2]['y'])]\n",
    "        all_data.append([source_file, tag, point1, point2])\n",
    "df_step_0 = pd.DataFrame(all_data, columns=[\"image\", \"tag\", \"left bottom\", \"right top\"])\n",
    "df_step_0.to_csv(str(test_set_folder / \"step_0_df.csv\"), index=False)"
   ]
  },
  {
   "cell_type": "code",
   "execution_count": 4,
   "id": "84e520c4-ca14-44fb-ba39-987aa60d1541",
   "metadata": {
    "tags": []
   },
   "outputs": [
    {
     "data": {
      "text/html": [
       "<div>\n",
       "<style scoped>\n",
       "    .dataframe tbody tr th:only-of-type {\n",
       "        vertical-align: middle;\n",
       "    }\n",
       "\n",
       "    .dataframe tbody tr th {\n",
       "        vertical-align: top;\n",
       "    }\n",
       "\n",
       "    .dataframe thead th {\n",
       "        text-align: right;\n",
       "    }\n",
       "</style>\n",
       "<table border=\"1\" class=\"dataframe\">\n",
       "  <thead>\n",
       "    <tr style=\"text-align: right;\">\n",
       "      <th></th>\n",
       "      <th>image</th>\n",
       "      <th>tag</th>\n",
       "      <th>left bottom</th>\n",
       "      <th>right top</th>\n",
       "    </tr>\n",
       "  </thead>\n",
       "  <tbody>\n",
       "    <tr>\n",
       "      <th>0</th>\n",
       "      <td>vlc-record-2019-02-15-10h16m31s-rtsp___80_0.jpg</td>\n",
       "      <td>Persoon 1</td>\n",
       "      <td>(0, 266.62240663900417)</td>\n",
       "      <td>(303.8008298755187, 1024)</td>\n",
       "    </tr>\n",
       "    <tr>\n",
       "      <th>1</th>\n",
       "      <td>vlc-record-2019-02-15-10h16m31s-rtsp___80_0.jpg</td>\n",
       "      <td>Persoon 2</td>\n",
       "      <td>(116.84647302904564, 205.0124481327801)</td>\n",
       "      <td>(189.07883817427387, 268.746887966805)</td>\n",
       "    </tr>\n",
       "    <tr>\n",
       "      <th>2</th>\n",
       "      <td>vlc-record-2019-02-15-10h16m31s-rtsp___80_0.jpg</td>\n",
       "      <td>Persoon 3</td>\n",
       "      <td>(278.3070539419087, 74.35684647302905)</td>\n",
       "      <td>(402.58921161825725, 388.78008298755185)</td>\n",
       "    </tr>\n",
       "    <tr>\n",
       "      <th>3</th>\n",
       "      <td>vlc-record-2019-02-15-10h16m31s-rtsp___80_0.jpg</td>\n",
       "      <td>Persoon 5</td>\n",
       "      <td>(826.4232365145228, 294.2406639004149)</td>\n",
       "      <td>(979.3858921161826, 374.97095435684645)</td>\n",
       "    </tr>\n",
       "    <tr>\n",
       "      <th>4</th>\n",
       "      <td>vlc-record-2019-02-15-10h16m31s-rtsp___80_0.jpg</td>\n",
       "      <td>Persoon 6</td>\n",
       "      <td>(787.1203319502075, 370.7219917012448)</td>\n",
       "      <td>(1018.688796680498, 778.6224066390041)</td>\n",
       "    </tr>\n",
       "    <tr>\n",
       "      <th>...</th>\n",
       "      <td>...</td>\n",
       "      <td>...</td>\n",
       "      <td>...</td>\n",
       "      <td>...</td>\n",
       "    </tr>\n",
       "    <tr>\n",
       "      <th>147</th>\n",
       "      <td>vlc-record-2019-02-15-10h16m31s-rtsp___80_1014...</td>\n",
       "      <td>Persoon 4</td>\n",
       "      <td>(551.3029045643153, 222.00829875518673)</td>\n",
       "      <td>(834.9211618257261, 472.6970954356847)</td>\n",
       "    </tr>\n",
       "    <tr>\n",
       "      <th>148</th>\n",
       "      <td>vlc-record-2019-02-15-10h16m31s-rtsp___80_1014...</td>\n",
       "      <td>Persoon 7</td>\n",
       "      <td>(389.84232365145226, 146.58921161825725)</td>\n",
       "      <td>(550.2406639004149, 619.2863070539419)</td>\n",
       "    </tr>\n",
       "    <tr>\n",
       "      <th>149</th>\n",
       "      <td>vlc-record-2019-02-15-10h16m31s-rtsp___80_1014...</td>\n",
       "      <td>Persoon 9</td>\n",
       "      <td>(250.68879668049792, 169.95850622406638)</td>\n",
       "      <td>(433.3941908713693, 655.402489626556)</td>\n",
       "    </tr>\n",
       "    <tr>\n",
       "      <th>150</th>\n",
       "      <td>vlc-record-2019-02-15-10h16m31s-rtsp___80_1014...</td>\n",
       "      <td>Persoon 5</td>\n",
       "      <td>(0, 281.49377593361)</td>\n",
       "      <td>(278.3070539419087, 1024)</td>\n",
       "    </tr>\n",
       "    <tr>\n",
       "      <th>151</th>\n",
       "      <td>vlc-record-2019-02-15-10h16m31s-rtsp___80_1014...</td>\n",
       "      <td>Persoon 1</td>\n",
       "      <td>(878.4730290456431, 239.00414937759336)</td>\n",
       "      <td>(964.5145228215767, 369.6597510373444)</td>\n",
       "    </tr>\n",
       "  </tbody>\n",
       "</table>\n",
       "<p>152 rows × 4 columns</p>\n",
       "</div>"
      ],
      "text/plain": [
       "                                                 image        tag  \\\n",
       "0      vlc-record-2019-02-15-10h16m31s-rtsp___80_0.jpg  Persoon 1   \n",
       "1      vlc-record-2019-02-15-10h16m31s-rtsp___80_0.jpg  Persoon 2   \n",
       "2      vlc-record-2019-02-15-10h16m31s-rtsp___80_0.jpg  Persoon 3   \n",
       "3      vlc-record-2019-02-15-10h16m31s-rtsp___80_0.jpg  Persoon 5   \n",
       "4      vlc-record-2019-02-15-10h16m31s-rtsp___80_0.jpg  Persoon 6   \n",
       "..                                                 ...        ...   \n",
       "147  vlc-record-2019-02-15-10h16m31s-rtsp___80_1014...  Persoon 4   \n",
       "148  vlc-record-2019-02-15-10h16m31s-rtsp___80_1014...  Persoon 7   \n",
       "149  vlc-record-2019-02-15-10h16m31s-rtsp___80_1014...  Persoon 9   \n",
       "150  vlc-record-2019-02-15-10h16m31s-rtsp___80_1014...  Persoon 5   \n",
       "151  vlc-record-2019-02-15-10h16m31s-rtsp___80_1014...  Persoon 1   \n",
       "\n",
       "                                  left bottom  \\\n",
       "0                     (0, 266.62240663900417)   \n",
       "1     (116.84647302904564, 205.0124481327801)   \n",
       "2      (278.3070539419087, 74.35684647302905)   \n",
       "3      (826.4232365145228, 294.2406639004149)   \n",
       "4      (787.1203319502075, 370.7219917012448)   \n",
       "..                                        ...   \n",
       "147   (551.3029045643153, 222.00829875518673)   \n",
       "148  (389.84232365145226, 146.58921161825725)   \n",
       "149  (250.68879668049792, 169.95850622406638)   \n",
       "150                      (0, 281.49377593361)   \n",
       "151   (878.4730290456431, 239.00414937759336)   \n",
       "\n",
       "                                    right top  \n",
       "0                   (303.8008298755187, 1024)  \n",
       "1      (189.07883817427387, 268.746887966805)  \n",
       "2    (402.58921161825725, 388.78008298755185)  \n",
       "3     (979.3858921161826, 374.97095435684645)  \n",
       "4      (1018.688796680498, 778.6224066390041)  \n",
       "..                                        ...  \n",
       "147    (834.9211618257261, 472.6970954356847)  \n",
       "148    (550.2406639004149, 619.2863070539419)  \n",
       "149     (433.3941908713693, 655.402489626556)  \n",
       "150                 (278.3070539419087, 1024)  \n",
       "151    (964.5145228215767, 369.6597510373444)  \n",
       "\n",
       "[152 rows x 4 columns]"
      ]
     },
     "execution_count": 4,
     "metadata": {},
     "output_type": "execute_result"
    }
   ],
   "source": [
    "df_step_0"
   ]
  },
  {
   "cell_type": "markdown",
   "id": "8977a18d-988f-40b0-90ba-b718b5216abc",
   "metadata": {},
   "source": [
    "## Step 1: Extracting people from the images\n",
    "The first step in the pipeline is to extract the people from the images. Currently, these extracted persons are saved as separate images."
   ]
  },
  {
   "cell_type": "code",
   "execution_count": 5,
   "id": "106eae7b-ec4d-4720-9c5b-5d6037db5ed4",
   "metadata": {
    "tags": []
   },
   "outputs": [
    {
     "name": "stderr",
     "output_type": "stream",
     "text": [
      "2023-05-16 13:41:41.476645: I tensorflow/core/platform/cpu_feature_guard.cc:193] This TensorFlow binary is optimized with oneAPI Deep Neural Network Library (oneDNN) to use the following CPU instructions in performance-critical operations:  AVX2 AVX512F AVX512_VNNI FMA\n",
      "To enable them in other operations, rebuild TensorFlow with the appropriate compiler flags.\n",
      "2023-05-16 13:41:41.610870: I tensorflow/core/util/port.cc:104] oneDNN custom operations are on. You may see slightly different numerical results due to floating-point round-off errors from different computation orders. To turn them off, set the environment variable `TF_ENABLE_ONEDNN_OPTS=0`.\n",
      "2023-05-16 13:41:42.808919: W tensorflow/compiler/xla/stream_executor/platform/default/dso_loader.cc:64] Could not load dynamic library 'libnvinfer.so.7'; dlerror: libnvinfer.so.7: cannot open shared object file: No such file or directory; LD_LIBRARY_PATH: /vsc-hard-mounts/leuven-data/351/vsc35135/miniconda3/lib/python3.9/site-packages/cv2/../../lib64:/apps/leuven/icelake/2021a/software/CUDA/11.7.1/nvvm/lib64:/apps/leuven/icelake/2021a/software/CUDA/11.7.1/extras/CUPTI/lib64:/apps/leuven/icelake/2021a/software/CUDA/11.7.1/lib64\n",
      "2023-05-16 13:41:42.808994: W tensorflow/compiler/xla/stream_executor/platform/default/dso_loader.cc:64] Could not load dynamic library 'libnvinfer_plugin.so.7'; dlerror: libnvinfer_plugin.so.7: cannot open shared object file: No such file or directory; LD_LIBRARY_PATH: /vsc-hard-mounts/leuven-data/351/vsc35135/miniconda3/lib/python3.9/site-packages/cv2/../../lib64:/apps/leuven/icelake/2021a/software/CUDA/11.7.1/nvvm/lib64:/apps/leuven/icelake/2021a/software/CUDA/11.7.1/extras/CUPTI/lib64:/apps/leuven/icelake/2021a/software/CUDA/11.7.1/lib64\n",
      "2023-05-16 13:41:42.809001: W tensorflow/compiler/tf2tensorrt/utils/py_utils.cc:38] TF-TRT Warning: Cannot dlopen some TensorRT libraries. If you would like to use Nvidia GPU with TensorRT, please make sure the missing libraries mentioned above are installed properly.\n"
     ]
    }
   ],
   "source": [
    "import torch\n",
    "import cv2\n",
    "from PIL import Image\n",
    "import matplotlib.pyplot as plt\n",
    "from transformers import DetrImageProcessor, DetrForObjectDetection, DetrFeatureExtractor"
   ]
  },
  {
   "cell_type": "code",
   "execution_count": 6,
   "id": "106408d5-5c07-4c4f-bc59-dbe0ab9af4b2",
   "metadata": {
    "tags": []
   },
   "outputs": [],
   "source": [
    "# Define some constants and paths\n",
    "DETR_MODEL = \"facebook/detr-resnet-50\"\n",
    "DETR_OUTPUT = Path().resolve()/ 'IMAGE_OUTPUT_PATH'\n",
    "assert DETR_OUTPUT.exists(), f\"Can't find the folder to store the cut-out persons: {DETR_OUTPUT}\""
   ]
  },
  {
   "cell_type": "markdown",
   "id": "2e533861-3218-4b6e-ae7d-053c3f07d07c",
   "metadata": {},
   "source": [
    "First, read in the data that was prepared for us in the previous step."
   ]
  },
  {
   "cell_type": "code",
   "execution_count": 7,
   "id": "46656967-3839-40fa-a331-fb59d450eb93",
   "metadata": {
    "tags": []
   },
   "outputs": [],
   "source": [
    "df_step_0 = pd.read_csv(test_set_folder / \"step_0_df.csv\")"
   ]
  },
  {
   "cell_type": "markdown",
   "id": "5f19ae33-9961-4367-a23b-907833fa02b3",
   "metadata": {},
   "source": [
    "Then, load the model and feature extractor"
   ]
  },
  {
   "cell_type": "code",
   "execution_count": 8,
   "id": "d1e7d191-7ee5-4244-b400-d0495eca5ef8",
   "metadata": {
    "tags": []
   },
   "outputs": [
    {
     "name": "stderr",
     "output_type": "stream",
     "text": [
      "/data/leuven/351/vsc35135/miniconda3/lib/python3.9/site-packages/transformers/models/detr/feature_extraction_detr.py:28: FutureWarning: The class DetrFeatureExtractor is deprecated and will be removed in version 5 of Transformers. Please use DetrImageProcessor instead.\n",
      "  warnings.warn(\n",
      "The `max_size` parameter is deprecated and will be removed in v4.26. Please specify in `size['longest_edge'] instead`.\n"
     ]
    }
   ],
   "source": [
    "detr_feature_extractor = DetrFeatureExtractor.from_pretrained(DETR_MODEL)\n",
    "detr_model = DetrForObjectDetection.from_pretrained(DETR_MODEL)\n",
    "detr_model = detr_model.eval()"
   ]
  },
  {
   "cell_type": "code",
   "execution_count": 9,
   "id": "5c3df0db-307d-48fc-a826-199602dfe675",
   "metadata": {
    "tags": []
   },
   "outputs": [],
   "source": [
    "def get_iou(left_bottom, right_top, bounding_box):\n",
    "    X, Y, W, H = bounding_box.int()\n",
    "    box1 = [*eval(left_bottom), *eval(right_top)]\n",
    "    box2 = [X.item(), Y.item(), (X+W).item(), (Y+H).item()]\n",
    "    x1, y1, x2, y2 = max(box1[0], box2[0]), max(box1[1], box2[1]), min(box1[2], box2[2]), min(box1[3], box2[3])\n",
    "    interArea = abs(max((x2 - x1, 0)) * max((y2 - y1), 0))\n",
    "    box1Area = abs((box1[2] - box1[0]) * (box1[3] - box1[1]))\n",
    "    box2Area = abs((box2[2] - box2[0]) * (box2[3] - box2[1]))\n",
    "    iou = interArea / float(box1Area + box2Area - interArea)\n",
    "    return iou"
   ]
  },
  {
   "cell_type": "code",
   "execution_count": 10,
   "id": "0c9e0b50-5e3a-4285-8fd2-948b629c2af0",
   "metadata": {
    "tags": []
   },
   "outputs": [
    {
     "name": "stderr",
     "output_type": "stream",
     "text": [
      "  0%|          | 0/152 [00:00<?, ?it/s]`post_process` is deprecated and will be removed in v5 of Transformers, please use `post_process_object_detection`\n",
      "100%|██████████| 152/152 [03:15<00:00,  1.29s/it]\n"
     ]
    }
   ],
   "source": [
    "step_1_data = []\n",
    "\n",
    "for index, row in tqdm(df_step_0.iterrows(), total=len(df_step_0)):\n",
    "    # Load image\n",
    "    image = Image.open(image_folder / row[\"image\"])\n",
    "    # Extract image features\n",
    "    inputs = detr_feature_extractor(image, return_tensors=\"pt\")\n",
    "    inputs.keys()\n",
    "    outputs = detr_model(**inputs)\n",
    "    # keep bounding boxes with a 0.90 threshold and get their labels\n",
    "    probability = outputs.logits.softmax(-1)[0, :, :-1]\n",
    "    threshold = probability.max(-1).values > 0.90\n",
    "    labels = [detr_model.config.id2label[p.argmax().item()] for p in probability[threshold]]\n",
    "    # rescale \n",
    "    size = torch.tensor(image.size[::-1]).unsqueeze(0)\n",
    "    output_after = detr_feature_extractor.post_process(outputs, size)\n",
    "    bounding_boxes = output_after[0]['boxes'][threshold]\n",
    "    \n",
    "    i = 0\n",
    "    for bounding_box, label in zip(bounding_boxes, labels):\n",
    "        # Only keep bounding boxes labeled as person\n",
    "        if label == \"person\":\n",
    "            truth_label, max_iou = None, 0\n",
    "            i_image = cv2.imread(str(image_folder / row[\"image\"]))\n",
    "            stem = row[\"image\"].split(\".\")[0]\n",
    "            save_as = DETR_OUTPUT / f\"{stem}_{i}.JPG\"\n",
    "            X, Y, W, H = bounding_box.int()\n",
    "            coordinates = i_image[Y:H, X:W]\n",
    "            coordinates = cv2.cvtColor(coordinates, cv2.COLOR_BGR2RGB)\n",
    "            plt.imshow(coordinates)\n",
    "            plt.savefig(str(save_as))\n",
    "            iou = get_iou(row[\"left bottom\"], row[\"right top\"], bounding_box)\n",
    "            if iou > max_iou:\n",
    "                truth_label = row[\"tag\"]\n",
    "                max_iou = iou\n",
    "            plt.close()\n",
    "            step_1_data.append([row[\"image\"], f\"{stem}_{i}.JPG\", truth_label, max_iou])\n",
    "            i += 1\n",
    "    image.close()\n",
    "df_step_1 = pd.DataFrame(step_1_data, columns=[\"full_image\", \"image_snippet\", \"person_id\", \"iou\"])"
   ]
  },
  {
   "cell_type": "code",
   "execution_count": 19,
   "id": "93ee38c3-758f-47c8-9a8b-e66eb5e0b251",
   "metadata": {
    "tags": []
   },
   "outputs": [
    {
     "data": {
      "text/html": [
       "<div>\n",
       "<style scoped>\n",
       "    .dataframe tbody tr th:only-of-type {\n",
       "        vertical-align: middle;\n",
       "    }\n",
       "\n",
       "    .dataframe tbody tr th {\n",
       "        vertical-align: top;\n",
       "    }\n",
       "\n",
       "    .dataframe thead th {\n",
       "        text-align: right;\n",
       "    }\n",
       "</style>\n",
       "<table border=\"1\" class=\"dataframe\">\n",
       "  <thead>\n",
       "    <tr style=\"text-align: right;\">\n",
       "      <th></th>\n",
       "      <th>full_image</th>\n",
       "      <th>image_snippet</th>\n",
       "      <th>person_id</th>\n",
       "      <th>iou</th>\n",
       "    </tr>\n",
       "  </thead>\n",
       "  <tbody>\n",
       "    <tr>\n",
       "      <th>0</th>\n",
       "      <td>vlc-record-2019-02-15-10h16m31s-rtsp___80_0.jpg</td>\n",
       "      <td>vlc-record-2019-02-15-10h16m31s-rtsp___80_0_0.JPG</td>\n",
       "      <td>NaN</td>\n",
       "      <td>0.000000</td>\n",
       "    </tr>\n",
       "    <tr>\n",
       "      <th>1</th>\n",
       "      <td>vlc-record-2019-02-15-10h16m31s-rtsp___80_0.jpg</td>\n",
       "      <td>vlc-record-2019-02-15-10h16m31s-rtsp___80_0_1.JPG</td>\n",
       "      <td>NaN</td>\n",
       "      <td>0.000000</td>\n",
       "    </tr>\n",
       "    <tr>\n",
       "      <th>2</th>\n",
       "      <td>vlc-record-2019-02-15-10h16m31s-rtsp___80_0.jpg</td>\n",
       "      <td>vlc-record-2019-02-15-10h16m31s-rtsp___80_0_2.JPG</td>\n",
       "      <td>Persoon 1</td>\n",
       "      <td>0.001705</td>\n",
       "    </tr>\n",
       "    <tr>\n",
       "      <th>3</th>\n",
       "      <td>vlc-record-2019-02-15-10h16m31s-rtsp___80_0.jpg</td>\n",
       "      <td>vlc-record-2019-02-15-10h16m31s-rtsp___80_0_3.JPG</td>\n",
       "      <td>Persoon 1</td>\n",
       "      <td>0.439613</td>\n",
       "    </tr>\n",
       "    <tr>\n",
       "      <th>4</th>\n",
       "      <td>vlc-record-2019-02-15-10h16m31s-rtsp___80_0.jpg</td>\n",
       "      <td>vlc-record-2019-02-15-10h16m31s-rtsp___80_0_4.JPG</td>\n",
       "      <td>NaN</td>\n",
       "      <td>0.000000</td>\n",
       "    </tr>\n",
       "    <tr>\n",
       "      <th>...</th>\n",
       "      <td>...</td>\n",
       "      <td>...</td>\n",
       "      <td>...</td>\n",
       "      <td>...</td>\n",
       "    </tr>\n",
       "    <tr>\n",
       "      <th>1017</th>\n",
       "      <td>vlc-record-2019-02-15-10h16m31s-rtsp___80_1014...</td>\n",
       "      <td>vlc-record-2019-02-15-10h16m31s-rtsp___80_1014...</td>\n",
       "      <td>NaN</td>\n",
       "      <td>0.000000</td>\n",
       "    </tr>\n",
       "    <tr>\n",
       "      <th>1018</th>\n",
       "      <td>vlc-record-2019-02-15-10h16m31s-rtsp___80_1014...</td>\n",
       "      <td>vlc-record-2019-02-15-10h16m31s-rtsp___80_1014...</td>\n",
       "      <td>Persoon 1</td>\n",
       "      <td>0.022706</td>\n",
       "    </tr>\n",
       "    <tr>\n",
       "      <th>1019</th>\n",
       "      <td>vlc-record-2019-02-15-10h16m31s-rtsp___80_1014...</td>\n",
       "      <td>vlc-record-2019-02-15-10h16m31s-rtsp___80_1014...</td>\n",
       "      <td>NaN</td>\n",
       "      <td>0.000000</td>\n",
       "    </tr>\n",
       "    <tr>\n",
       "      <th>1020</th>\n",
       "      <td>vlc-record-2019-02-15-10h16m31s-rtsp___80_1014...</td>\n",
       "      <td>vlc-record-2019-02-15-10h16m31s-rtsp___80_1014...</td>\n",
       "      <td>NaN</td>\n",
       "      <td>0.000000</td>\n",
       "    </tr>\n",
       "    <tr>\n",
       "      <th>1021</th>\n",
       "      <td>vlc-record-2019-02-15-10h16m31s-rtsp___80_1014...</td>\n",
       "      <td>vlc-record-2019-02-15-10h16m31s-rtsp___80_1014...</td>\n",
       "      <td>Persoon 1</td>\n",
       "      <td>0.026393</td>\n",
       "    </tr>\n",
       "  </tbody>\n",
       "</table>\n",
       "<p>1022 rows × 4 columns</p>\n",
       "</div>"
      ],
      "text/plain": [
       "                                             full_image  \\\n",
       "0       vlc-record-2019-02-15-10h16m31s-rtsp___80_0.jpg   \n",
       "1       vlc-record-2019-02-15-10h16m31s-rtsp___80_0.jpg   \n",
       "2       vlc-record-2019-02-15-10h16m31s-rtsp___80_0.jpg   \n",
       "3       vlc-record-2019-02-15-10h16m31s-rtsp___80_0.jpg   \n",
       "4       vlc-record-2019-02-15-10h16m31s-rtsp___80_0.jpg   \n",
       "...                                                 ...   \n",
       "1017  vlc-record-2019-02-15-10h16m31s-rtsp___80_1014...   \n",
       "1018  vlc-record-2019-02-15-10h16m31s-rtsp___80_1014...   \n",
       "1019  vlc-record-2019-02-15-10h16m31s-rtsp___80_1014...   \n",
       "1020  vlc-record-2019-02-15-10h16m31s-rtsp___80_1014...   \n",
       "1021  vlc-record-2019-02-15-10h16m31s-rtsp___80_1014...   \n",
       "\n",
       "                                          image_snippet  person_id       iou  \n",
       "0     vlc-record-2019-02-15-10h16m31s-rtsp___80_0_0.JPG        NaN  0.000000  \n",
       "1     vlc-record-2019-02-15-10h16m31s-rtsp___80_0_1.JPG        NaN  0.000000  \n",
       "2     vlc-record-2019-02-15-10h16m31s-rtsp___80_0_2.JPG  Persoon 1  0.001705  \n",
       "3     vlc-record-2019-02-15-10h16m31s-rtsp___80_0_3.JPG  Persoon 1  0.439613  \n",
       "4     vlc-record-2019-02-15-10h16m31s-rtsp___80_0_4.JPG        NaN  0.000000  \n",
       "...                                                 ...        ...       ...  \n",
       "1017  vlc-record-2019-02-15-10h16m31s-rtsp___80_1014...        NaN  0.000000  \n",
       "1018  vlc-record-2019-02-15-10h16m31s-rtsp___80_1014...  Persoon 1  0.022706  \n",
       "1019  vlc-record-2019-02-15-10h16m31s-rtsp___80_1014...        NaN  0.000000  \n",
       "1020  vlc-record-2019-02-15-10h16m31s-rtsp___80_1014...        NaN  0.000000  \n",
       "1021  vlc-record-2019-02-15-10h16m31s-rtsp___80_1014...  Persoon 1  0.026393  \n",
       "\n",
       "[1022 rows x 4 columns]"
      ]
     },
     "execution_count": 19,
     "metadata": {},
     "output_type": "execute_result"
    }
   ],
   "source": [
    "df_step_1.to_csv(str(test_set_folder / \"step_1_df.csv\"), index=False)\n",
    "df_step_1"
   ]
  },
  {
   "cell_type": "markdown",
   "id": "306082ef-f697-49e1-91d4-c69cb428bd57",
   "metadata": {},
   "source": [
    "## Step 2: Creating captions for each image\n",
    "The second step in the pipeline is to use these extracted images as input in the transformer encoder-decoder pair to create captions."
   ]
  },
  {
   "cell_type": "code",
   "execution_count": 12,
   "id": "6463c231-7cb7-40e0-9467-59f5b5283e92",
   "metadata": {
    "tags": []
   },
   "outputs": [],
   "source": [
    "from transformers import GPT2TokenizerFast, ViTImageProcessor, VisionEncoderDecoderModel"
   ]
  },
  {
   "cell_type": "code",
   "execution_count": 13,
   "id": "f593e8b8-4920-422a-be51-69e60b7c756f",
   "metadata": {
    "tags": []
   },
   "outputs": [],
   "source": [
    "# Define some constants and paths\n",
    "VITGPT2_BASE_MODEL = \"nlpconnect/vit-gpt2-image-captioning\"\n",
    "VITGPT2_RETRAINED_MODEL = Path().resolve() / 'Models' / 'retrained_model'\n",
    "DETR_OUTPUT = Path().resolve() / 'IMAGE_OUTPUT_PATH'\n",
    "assert VITGPT2_RETRAINED_MODEL.exists(), f\"Can't find the retrained model. Did you forget to unzip it?\"\n",
    "assert DETR_OUTPUT.exists(), f\"Can't find the folder to store the cut-out persons: {DETR_OUTPUT}\""
   ]
  },
  {
   "cell_type": "markdown",
   "id": "e363d84b-3828-4957-aa19-33deba969c37",
   "metadata": {},
   "source": [
    "First, read in the data that was prepared for us in the previous step."
   ]
  },
  {
   "cell_type": "code",
   "execution_count": 14,
   "id": "0d73bcc0-4fcc-4760-a486-cb518a4bcacd",
   "metadata": {
    "tags": []
   },
   "outputs": [],
   "source": [
    "df_step_1 = pd.read_csv(test_set_folder / \"step_1_df.csv\")"
   ]
  },
  {
   "cell_type": "markdown",
   "id": "ec12dbea-370f-4d1e-bf49-7458cb85a1cd",
   "metadata": {},
   "source": [
    "Then, load the model and feature extractor"
   ]
  },
  {
   "cell_type": "code",
   "execution_count": 15,
   "id": "b5b767d2-900c-44f8-9d87-fad644f8cc9f",
   "metadata": {
    "tags": []
   },
   "outputs": [],
   "source": [
    "visionencoderdecoder = VisionEncoderDecoderModel.from_pretrained(VITGPT2_RETRAINED_MODEL)\n",
    "vitgpt2_image_processor = ViTImageProcessor.from_pretrained(VITGPT2_BASE_MODEL)\n",
    "vitgpt2_tokenizer = GPT2TokenizerFast.from_pretrained(VITGPT2_BASE_MODEL)\n",
    "\n",
    "# GPT2 only has bos/eos tokens but not decoder_start/pad tokens\n",
    "vitgpt2_tokenizer.pad_token = vitgpt2_tokenizer.eos_token\n",
    "# update the model config\n",
    "visionencoderdecoder.config.eos_token_id = vitgpt2_tokenizer.eos_token_id\n",
    "visionencoderdecoder.config.decoder_start_token_id = vitgpt2_tokenizer.bos_token_id\n",
    "visionencoderdecoder.config.pad_token_id = vitgpt2_tokenizer.pad_token_id"
   ]
  },
  {
   "cell_type": "code",
   "execution_count": 16,
   "id": "945bd09f-e418-44e6-9b15-d7a502c41a5d",
   "metadata": {
    "tags": []
   },
   "outputs": [
    {
     "name": "stderr",
     "output_type": "stream",
     "text": [
      "100%|██████████| 1022/1022 [06:01<00:00,  2.83it/s]\n"
     ]
    }
   ],
   "source": [
    "transcriptions = []\n",
    "i_images = []\n",
    "df_step_2 = df_step_1.copy(deep=True)\n",
    "model_kwargs = {\"max_new_tokens\": 25}\n",
    "for index, row in tqdm(df_step_1.iterrows(), total=len(df_step_1)):\n",
    "    if index % 10 == 9:\n",
    "        pixel_values = vitgpt2_image_processor(images=i_images, return_tensors=\"pt\").pixel_values\n",
    "        output_ids = visionencoderdecoder.generate(pixel_values=pixel_values, **model_kwargs)\n",
    "        predictions = vitgpt2_tokenizer.batch_decode(output_ids, skip_special_tokens=True)\n",
    "        transcriptions.extend(predictions)\n",
    "        df_step_2[\"caption\"] = pd.Series(transcriptions)\n",
    "        i_images = []\n",
    "    else:\n",
    "        full_image_path = DETR_OUTPUT / row['image_snippet']\n",
    "        i_image = Image.open(full_image_path)\n",
    "        if i_image.mode != \"RGB\":\n",
    "            i_image = i_image.convert(mode=\"RGB\")\n",
    "        i_images.append(i_image)\n",
    "pixel_values = vitgpt2_image_processor(images=i_images, return_tensors=\"pt\").pixel_values\n",
    "output_ids = visionencoderdecoder.generate(pixel_values=pixel_values, **model_kwargs)\n",
    "predictions = vitgpt2_tokenizer.batch_decode(output_ids, skip_special_tokens=True)\n",
    "transcriptions.extend(predictions)\n",
    "df_step_2[\"caption\"] = pd.Series(transcriptions)"
   ]
  },
  {
   "cell_type": "code",
   "execution_count": 18,
   "id": "48b1473e-b79a-426b-a6e1-e131f629d026",
   "metadata": {
    "tags": []
   },
   "outputs": [
    {
     "data": {
      "text/html": [
       "<div>\n",
       "<style scoped>\n",
       "    .dataframe tbody tr th:only-of-type {\n",
       "        vertical-align: middle;\n",
       "    }\n",
       "\n",
       "    .dataframe tbody tr th {\n",
       "        vertical-align: top;\n",
       "    }\n",
       "\n",
       "    .dataframe thead th {\n",
       "        text-align: right;\n",
       "    }\n",
       "</style>\n",
       "<table border=\"1\" class=\"dataframe\">\n",
       "  <thead>\n",
       "    <tr style=\"text-align: right;\">\n",
       "      <th></th>\n",
       "      <th>full_image</th>\n",
       "      <th>image_snippet</th>\n",
       "      <th>person_id</th>\n",
       "      <th>iou</th>\n",
       "      <th>caption</th>\n",
       "    </tr>\n",
       "  </thead>\n",
       "  <tbody>\n",
       "    <tr>\n",
       "      <th>0</th>\n",
       "      <td>vlc-record-2019-02-15-10h16m31s-rtsp___80_0.jpg</td>\n",
       "      <td>vlc-record-2019-02-15-10h16m31s-rtsp___80_0_0.JPG</td>\n",
       "      <td>NaN</td>\n",
       "      <td>0.000000</td>\n",
       "      <td>A woman in a black coat is walking down the st...</td>\n",
       "    </tr>\n",
       "    <tr>\n",
       "      <th>1</th>\n",
       "      <td>vlc-record-2019-02-15-10h16m31s-rtsp___80_0.jpg</td>\n",
       "      <td>vlc-record-2019-02-15-10h16m31s-rtsp___80_0_1.JPG</td>\n",
       "      <td>NaN</td>\n",
       "      <td>0.000000</td>\n",
       "      <td>A man in a black coat is walking down the stre...</td>\n",
       "    </tr>\n",
       "    <tr>\n",
       "      <th>2</th>\n",
       "      <td>vlc-record-2019-02-15-10h16m31s-rtsp___80_0.jpg</td>\n",
       "      <td>vlc-record-2019-02-15-10h16m31s-rtsp___80_0_2.JPG</td>\n",
       "      <td>Persoon 1</td>\n",
       "      <td>0.001705</td>\n",
       "      <td>A woman in a black coat is walking down the st...</td>\n",
       "    </tr>\n",
       "    <tr>\n",
       "      <th>3</th>\n",
       "      <td>vlc-record-2019-02-15-10h16m31s-rtsp___80_0.jpg</td>\n",
       "      <td>vlc-record-2019-02-15-10h16m31s-rtsp___80_0_3.JPG</td>\n",
       "      <td>Persoon 1</td>\n",
       "      <td>0.439613</td>\n",
       "      <td>A woman in a black coat is walking down the st...</td>\n",
       "    </tr>\n",
       "    <tr>\n",
       "      <th>4</th>\n",
       "      <td>vlc-record-2019-02-15-10h16m31s-rtsp___80_0.jpg</td>\n",
       "      <td>vlc-record-2019-02-15-10h16m31s-rtsp___80_0_4.JPG</td>\n",
       "      <td>NaN</td>\n",
       "      <td>0.000000</td>\n",
       "      <td>A man in a black coat is walking down the stre...</td>\n",
       "    </tr>\n",
       "    <tr>\n",
       "      <th>...</th>\n",
       "      <td>...</td>\n",
       "      <td>...</td>\n",
       "      <td>...</td>\n",
       "      <td>...</td>\n",
       "      <td>...</td>\n",
       "    </tr>\n",
       "    <tr>\n",
       "      <th>1017</th>\n",
       "      <td>vlc-record-2019-02-15-10h16m31s-rtsp___80_1014...</td>\n",
       "      <td>vlc-record-2019-02-15-10h16m31s-rtsp___80_1014...</td>\n",
       "      <td>NaN</td>\n",
       "      <td>0.000000</td>\n",
       "      <td>NaN</td>\n",
       "    </tr>\n",
       "    <tr>\n",
       "      <th>1018</th>\n",
       "      <td>vlc-record-2019-02-15-10h16m31s-rtsp___80_1014...</td>\n",
       "      <td>vlc-record-2019-02-15-10h16m31s-rtsp___80_1014...</td>\n",
       "      <td>Persoon 1</td>\n",
       "      <td>0.022706</td>\n",
       "      <td>NaN</td>\n",
       "    </tr>\n",
       "    <tr>\n",
       "      <th>1019</th>\n",
       "      <td>vlc-record-2019-02-15-10h16m31s-rtsp___80_1014...</td>\n",
       "      <td>vlc-record-2019-02-15-10h16m31s-rtsp___80_1014...</td>\n",
       "      <td>NaN</td>\n",
       "      <td>0.000000</td>\n",
       "      <td>NaN</td>\n",
       "    </tr>\n",
       "    <tr>\n",
       "      <th>1020</th>\n",
       "      <td>vlc-record-2019-02-15-10h16m31s-rtsp___80_1014...</td>\n",
       "      <td>vlc-record-2019-02-15-10h16m31s-rtsp___80_1014...</td>\n",
       "      <td>NaN</td>\n",
       "      <td>0.000000</td>\n",
       "      <td>NaN</td>\n",
       "    </tr>\n",
       "    <tr>\n",
       "      <th>1021</th>\n",
       "      <td>vlc-record-2019-02-15-10h16m31s-rtsp___80_1014...</td>\n",
       "      <td>vlc-record-2019-02-15-10h16m31s-rtsp___80_1014...</td>\n",
       "      <td>Persoon 1</td>\n",
       "      <td>0.026393</td>\n",
       "      <td>NaN</td>\n",
       "    </tr>\n",
       "  </tbody>\n",
       "</table>\n",
       "<p>1022 rows × 5 columns</p>\n",
       "</div>"
      ],
      "text/plain": [
       "                                             full_image  \\\n",
       "0       vlc-record-2019-02-15-10h16m31s-rtsp___80_0.jpg   \n",
       "1       vlc-record-2019-02-15-10h16m31s-rtsp___80_0.jpg   \n",
       "2       vlc-record-2019-02-15-10h16m31s-rtsp___80_0.jpg   \n",
       "3       vlc-record-2019-02-15-10h16m31s-rtsp___80_0.jpg   \n",
       "4       vlc-record-2019-02-15-10h16m31s-rtsp___80_0.jpg   \n",
       "...                                                 ...   \n",
       "1017  vlc-record-2019-02-15-10h16m31s-rtsp___80_1014...   \n",
       "1018  vlc-record-2019-02-15-10h16m31s-rtsp___80_1014...   \n",
       "1019  vlc-record-2019-02-15-10h16m31s-rtsp___80_1014...   \n",
       "1020  vlc-record-2019-02-15-10h16m31s-rtsp___80_1014...   \n",
       "1021  vlc-record-2019-02-15-10h16m31s-rtsp___80_1014...   \n",
       "\n",
       "                                          image_snippet  person_id       iou  \\\n",
       "0     vlc-record-2019-02-15-10h16m31s-rtsp___80_0_0.JPG        NaN  0.000000   \n",
       "1     vlc-record-2019-02-15-10h16m31s-rtsp___80_0_1.JPG        NaN  0.000000   \n",
       "2     vlc-record-2019-02-15-10h16m31s-rtsp___80_0_2.JPG  Persoon 1  0.001705   \n",
       "3     vlc-record-2019-02-15-10h16m31s-rtsp___80_0_3.JPG  Persoon 1  0.439613   \n",
       "4     vlc-record-2019-02-15-10h16m31s-rtsp___80_0_4.JPG        NaN  0.000000   \n",
       "...                                                 ...        ...       ...   \n",
       "1017  vlc-record-2019-02-15-10h16m31s-rtsp___80_1014...        NaN  0.000000   \n",
       "1018  vlc-record-2019-02-15-10h16m31s-rtsp___80_1014...  Persoon 1  0.022706   \n",
       "1019  vlc-record-2019-02-15-10h16m31s-rtsp___80_1014...        NaN  0.000000   \n",
       "1020  vlc-record-2019-02-15-10h16m31s-rtsp___80_1014...        NaN  0.000000   \n",
       "1021  vlc-record-2019-02-15-10h16m31s-rtsp___80_1014...  Persoon 1  0.026393   \n",
       "\n",
       "                                                caption  \n",
       "0     A woman in a black coat is walking down the st...  \n",
       "1     A man in a black coat is walking down the stre...  \n",
       "2     A woman in a black coat is walking down the st...  \n",
       "3     A woman in a black coat is walking down the st...  \n",
       "4     A man in a black coat is walking down the stre...  \n",
       "...                                                 ...  \n",
       "1017                                                NaN  \n",
       "1018                                                NaN  \n",
       "1019                                                NaN  \n",
       "1020                                                NaN  \n",
       "1021                                                NaN  \n",
       "\n",
       "[1022 rows x 5 columns]"
      ]
     },
     "execution_count": 18,
     "metadata": {},
     "output_type": "execute_result"
    }
   ],
   "source": [
    "df_step_2.to_csv(str(test_set_folder / \"step_2_df.csv\"), index=False)\n",
    "df_step_2"
   ]
  },
  {
   "cell_type": "code",
   "execution_count": null,
   "id": "3fab6709-6a9b-4343-a6a3-07f39767d189",
   "metadata": {},
   "outputs": [],
   "source": []
  }
 ],
 "metadata": {
  "kernelspec": {
   "display_name": "cvnlp",
   "language": "python",
   "name": "cvnlp"
  },
  "language_info": {
   "codemirror_mode": {
    "name": "ipython",
    "version": 3
   },
   "file_extension": ".py",
   "mimetype": "text/x-python",
   "name": "python",
   "nbconvert_exporter": "python",
   "pygments_lexer": "ipython3",
   "version": "3.9.12"
  }
 },
 "nbformat": 4,
 "nbformat_minor": 5
}
