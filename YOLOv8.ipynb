{
 "cells": [
  {
   "cell_type": "code",
   "execution_count": null,
   "id": "8c64015a",
   "metadata": {},
   "outputs": [],
   "source": [
    "from ultralytics import YOLO\n",
    "\n",
    "input_dir = '/data/leuven/351/vsc35146/CV & NLP project/IMAGE_INPUT_PATH'\n",
    "output_dir = '/data/leuven/351/vsc35146/CV & NLP project/IMAGE_OUTPUT_PATH'\n",
    "\n",
    "model = YOLO('yolov8x.pt')\n",
    "\n",
    "# Loop through input images\n",
    "for image_path in glob.glob(os.path.join(input_dir, \"*.JPG\")):\n",
    "    results = model(image_path, save = True, conf = 0.90)"
   ]
  },
  {
   "cell_type": "code",
   "execution_count": null,
   "id": "8f4fa12f",
   "metadata": {},
   "outputs": [],
   "source": []
  }
 ],
 "metadata": {
  "kernelspec": {
   "display_name": "Python 3 (ipykernel)",
   "language": "python",
   "name": "python3"
  },
  "language_info": {
   "codemirror_mode": {
    "name": "ipython",
    "version": 3
   },
   "file_extension": ".py",
   "mimetype": "text/x-python",
   "name": "python",
   "nbconvert_exporter": "python",
   "pygments_lexer": "ipython3",
   "version": "3.8.13"
  }
 },
 "nbformat": 4,
 "nbformat_minor": 5
}
