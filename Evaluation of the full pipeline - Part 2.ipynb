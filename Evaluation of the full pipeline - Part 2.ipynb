{
 "cells": [
  {
   "cell_type": "code",
   "execution_count": 1,
   "id": "3ca02e0f",
   "metadata": {},
   "outputs": [],
   "source": [
    "import cv2\n",
    "import warnings\n",
    "warnings.filterwarnings(\"ignore\")\n",
    "import pandas as pd\n",
    "import numpy as np\n",
    "import string\n",
    "import matplotlib.pyplot as plt\n",
    "import seaborn as sns\n",
    "import os\n",
    "os.environ['TF_CPP_MIN_LOG_LEVEL'] = '3' \n",
    "import tensorflow as tf\n",
    "from tensorflow import keras\n",
    "from tensorflow.keras import layers\n",
    "from tensorflow.keras.optimizers import Adam\n",
    "from tensorflow.keras.layers import Dense, Input\n",
    "from tensorflow.keras.optimizers import Adam\n",
    "from tensorflow.keras.models import Model\n",
    "from tensorflow.keras.callbacks import ModelCheckpoint\n",
    "import tensorflow_hub as hub\n",
    "import re\n",
    "import pickle\n",
    "from nltk.stem import PorterStemmer\n",
    "import math\n",
    "from tqdm import tqdm"
   ]
  },
  {
   "cell_type": "code",
   "execution_count": 2,
   "id": "09f7333d",
   "metadata": {},
   "outputs": [],
   "source": [
    "import csv\n",
    "#In this script, we will focus on the matching ability of the model to link passenger descriptions over different images. \n",
    "#Therefore, we extract the image ID, person ID, caption\n",
    "full_images=list()\n",
    "person_ids=list()\n",
    "captions=list()\n",
    "ious=list()\n",
    "# Open the CSV file\n",
    "with open('step_2_df.csv', 'r') as file:\n",
    "    # Create a CSV reader\n",
    "    reader = csv.reader(file)\n",
    "    # Iterate over each row in the CSV file\n",
    "    for row in reader:\n",
    "        # Access data in each row\n",
    "        full_images+= [row[0]]\n",
    "        person_ids+= [row[2]]\n",
    "        captions+= [row[4]]\n",
    "        ious+= [row[3]]\n",
    "del full_images[0], person_ids[0], captions[0], ious[0]"
   ]
  },
  {
   "cell_type": "code",
   "execution_count": 3,
   "id": "5b1285a1",
   "metadata": {},
   "outputs": [],
   "source": [
    "#Preprocessing of data: Only retain samples annotated with person ID\n",
    "non_valid_indices=list()\n",
    "for k in range(len(person_ids)):\n",
    "    if 'Persoon' not in person_ids[k]:\n",
    "        non_valid_indices+=[k]\n",
    "\n",
    "# Create a new list excluding the specified indices\n",
    "full_images = [value for i, value in enumerate(full_images) if i not in non_valid_indices]\n",
    "person_ids = [value for i, value in enumerate(person_ids) if i not in non_valid_indices]\n",
    "captions = [value for i, value in enumerate(captions) if i not in non_valid_indices]\n",
    "ious = [value for i, value in enumerate(ious) if i not in non_valid_indices]\n",
    "\n"
   ]
  },
  {
   "cell_type": "code",
   "execution_count": 4,
   "id": "d62e1d9c",
   "metadata": {},
   "outputs": [
    {
     "name": "stdout",
     "output_type": "stream",
     "text": [
      "535\n"
     ]
    }
   ],
   "source": [
    "print(len(captions))"
   ]
  },
  {
   "cell_type": "code",
   "execution_count": 6,
   "id": "34263d1a",
   "metadata": {},
   "outputs": [
    {
     "name": "stdout",
     "output_type": "stream",
     "text": [
      "484\n"
     ]
    }
   ],
   "source": [
    "#Preprocessing of data: Only retrain samples where captions is created\n",
    "non_valid_indices=list()\n",
    "for k in range(len(captions)):\n",
    "    if len(captions[k])<1:\n",
    "        non_valid_indices+=[k]\n",
    "# Create a new list excluding the specified indices\n",
    "full_images = [value for i, value in enumerate(full_images) if i not in non_valid_indices]\n",
    "person_ids = [value for i, value in enumerate(person_ids) if i not in non_valid_indices]\n",
    "captions = [value for i, value in enumerate(captions) if i not in non_valid_indices]\n",
    "ious = [value for i, value in enumerate(ious) if i not in non_valid_indices]\n",
    "print(len(captions))\n"
   ]
  },
  {
   "cell_type": "code",
   "execution_count": 7,
   "id": "1cfc9a6f",
   "metadata": {},
   "outputs": [
    {
     "name": "stdout",
     "output_type": "stream",
     "text": [
      "['Persoon 1', 'Persoon 2', 'Persoon 3', 'Persoon 4', 'Persoon 5', 'Persoon 6', 'Persoon 7', 'Persoon 8', 'Persoon 9']\n"
     ]
    }
   ],
   "source": [
    "#Preprocessing of data: For each image, only 1 description per person is valid. \n",
    "##We take the description coupled to the image snippet with highest iou\n",
    "all_person_ids=list(sorted(set(person_ids)))\n",
    "print(all_person_ids)\n",
    "non_valid_indices=list()\n",
    "for ind in range(len(all_person_ids)):\n",
    "    person=all_person_ids[ind]\n",
    "    all_indices_of_person = [i for i, item in enumerate(person_ids) if item==person]\n",
    "\n",
    "    list_images=list()\n",
    "    for k in all_indices_of_person:\n",
    "        list_images+= [full_images[k]]\n",
    "    duplicates = set([x for x in list_images if list_images.count(x) > 1])\n",
    "    for k in duplicates:\n",
    "        indices=[i for i, item in enumerate(list_images) if item==k]\n",
    "        ioulist=list()\n",
    "        for iouind in indices:\n",
    "            ioulist+=[ious[all_indices_of_person[iouind]]]\n",
    "        max_iou=ioulist.index(max(ioulist))\n",
    "        for iouind in range(len(indices)):\n",
    "            if not iouind==max_iou:\n",
    "                non_valid_indices+=[all_indices_of_person[indices[iouind]]]\n",
    "full_images = [value for i, value in enumerate(full_images) if i not in non_valid_indices]\n",
    "person_ids = [value for i, value in enumerate(person_ids) if i not in non_valid_indices]\n",
    "captions = [value for i, value in enumerate(captions) if i not in non_valid_indices]\n",
    "ious = [value for i, value in enumerate(ious) if i not in non_valid_indices]\n"
   ]
  },
  {
   "cell_type": "code",
   "execution_count": 8,
   "id": "1e40f005",
   "metadata": {},
   "outputs": [
    {
     "name": "stdout",
     "output_type": "stream",
     "text": [
      "136\n"
     ]
    }
   ],
   "source": [
    "print(len(full_images))"
   ]
  },
  {
   "cell_type": "code",
   "execution_count": 9,
   "id": "c0317bf5",
   "metadata": {},
   "outputs": [
    {
     "name": "stdout",
     "output_type": "stream",
     "text": [
      "['A woman in a black coat is walking down the street with her hands in her pockets ', 'A person in a black coat is walking in the street with a pair of black gloves on his shoulder ', 'A woman in a black coat is walking down the street with her hands in her pockets ', 'A person in a black coat is walking in the street with a pair of black gloves on his shoulder ', 'A woman in a black coat is walking down the street with a black bag on her head ', 'A man in a black coat is walking down the street with his hands in his pockets ', 'A man in a black coat is walking down the street with his hands in his pockets ', 'A man in a black coat is walking on the road with his hands in his pockets ', 'A man in a black coat is walking down the street with his hands in his pockets ', 'A man in a black coat is walking down the road with his hands in his pockets ', 'A man in a black coat is walking down the street with his hands in his pockets ', 'A man in a black suit is wearing a black jacket and black pants. He is carrying a pair of black scissors in his', 'A man in a black coat is walking through the door of a car ', 'A man in a black suit is wearing a black jacket and black pants. He is carrying a pair of black scissors in his', 'A man in a black coat is walking down the street with his hands in his pockets ', 'A man in a black suit is wearing a black jacket and black pants. He is carrying a pair of black scissors in his', 'A man in a black suit is wearing a black jacket and black pants. He is carrying a pair of black scissors in his', 'A man in a black coat is walking down the road with his hands in his pockets ', 'A woman in a suit is cutting her hair in the window ', 'A man in a black coat is walking down the road with his hands in his pockets ', 'A man in a black coat is walking down the street with his hands in his pockets ', 'A man in a black coat is walking down the road with his hands in his pockets ', 'A man in a black coat is walking on the road with his hands in his pockets ', 'A man with a black coat is walking down the street with his hands in his pockets ', 'A man with a black coat is walking down the street with his hands in his pockets ', 'A man in a black coat is walking down the street with his hands in his pockets ', 'A man with a black coat is walking down the street with his hands in his pockets ', 'A man with a black coat is walking down the road with his hands in his pockets ', 'A man in a black coat is walking down the street with his hands in his pockets ', 'A man in a black coat is walking down the street with his hands in his pockets ', 'A man in a black coat is walking down the street with his hands in his pockets ', 'A man in a black coat is walking down the road with his hands in his pockets ', 'A woman in a black coat is walking down the street with her hands in her pockets ', 'A woman in a black coat is walking down the street with her hands in her pockets ', 'A man in a black coat is walking down the road with his hands in his pockets ', 'A man in a black suit is wearing a black jacket and black pants and a pair of black shoes ', 'A man in a black coat is walking down the road with his hands in his pockets ', 'A woman in a black coat is walking down the street with her hands in her pockets ', 'A person in a suit is wearing a black jacket and a black backpack ', 'A person in a suit is wearing a black jacket and a black backpack ', 'A woman in a black coat is walking down the street with her hands in her pockets ', 'A woman in a black coat is walking down the street with a black bag in her hands ', 'A man in a black coat is walking down the road with his hands in his pockets ', 'A woman in a black coat is walking down the street with a black bag in her hands ', 'A man in a black coat is walking down the road with his hands in his pockets ', 'A person in a suit is wearing a black jacket and a black backpack ', 'A man in a black coat is walking on the road with his hands in his pockets ', 'A man in a black coat is walking down the road with his hands in his pockets ', 'A person in a suit is wearing a black jacket and a black backpack ', 'A man in a black coat is wearing a black coat and carrying a black backpack ', 'A man in a black coat is wearing a black coat and carrying a black backpack ', 'A man in a black coat is wearing a black coat and carrying a black backpack ', 'A man in a black coat is walking down the road with his hands in his pockets ', 'A man in a black coat is walking down the road with his hands in his pockets ', 'A man in a black coat is walking down the street with his hands in his pockets ', 'A man with a black coat is walking down the street with his hands in his pockets ', 'A man in a black coat is walking down the road with his hands in his pockets ', 'A man in a black coat is walking down the street with his hands in his pockets ', 'A man in a black coat is walking down the road with his hands in his pockets ', 'A man in a black coat is walking down the street with his hands in his pockets ', 'A man in a black coat is walking down the road with his hands in his pockets ', 'A man in a black coat is walking down the street with his hands in his pockets ', 'A man in a black suit is wearing a black jacket and black pants. He is carrying a pair of black scissors in his', 'A man in a black coat is walking down the street with his hands in his pockets ', 'A man in a black suit is wearing a black jacket and black pants. He is carrying a pair of black scissors in his', 'A man in a black coat is walking down the street with his hands in his pockets ', 'A man in a black coat is walking down the street with his hands in his pockets ', 'A man in a black coat is walking down the street with his hands in his pockets ', 'A man in a black coat is walking down the street with his hands in his pockets ', 'A man with a black coat is walking down the street with his hands in his pockets ', 'A man in a black coat is walking down the street with a pair of black shoes on his head ', 'A man in a black coat is walking down the street with a pair of black shoes on his head ', 'A man in a black coat is walking down the street with his hands in his pockets ', 'A man in a black coat is walking down the street with his hands in his pockets ', 'A man in a black coat is walking down the road with his hands in his pockets ', 'A man in a black coat is walking down the street with his hands in his pockets ', 'A man in a black coat is walking down the street with his hands in his pockets ', 'A man in a black coat is walking down the road with his hands in his pockets ', 'A man in a black suit is wearing a black jacket and black pants. He is carrying a pair of black scissors in his', 'A man in a suit is opening the door of a car door ', 'A woman in a black coat is walking down the street with her hands in her pockets ', 'A man in a black coat is walking down the road with his hands in his pockets ', 'A man in a black coat is walking down the road with his hands in his pockets ', 'A man in a suit is opening the door of a car door ', 'A man in a black coat is walking in the street with his hands in his pockets ', 'A WOMAN with a black coat is walking down the street ', 'A man in a black coat is walking down the road with his hands in his pockets ', 'A man in a black coat is walking down the road with his hands in his pockets ', 'A man in a black coat is walking down the road with his hands in his pockets ', 'A man in a black coat is walking down the road with his hands in his pockets ', 'A man in a black coat is walking down the road with his hands in his pockets ', 'A woman in a black coat is walking down the street with her hands in her pockets ', 'A person in a suit is wearing a black jacket and a black backpack ', 'A man in a black coat is walking on the road with a pair of black shoes ', 'A man in a black coat is walking down the road with his hands in his pockets ', 'A man in a black coat is walking down the street with his hand on his pocket ', 'A man in a black coat is walking down the street with his hands in his pockets ', 'A man in a black coat is walking down the road with his hands in his pockets ', 'A man in a black coat is walking down the road with his hands in his pockets ', 'A man with a black coat is walking down the road with his hands in his pockets ', 'A man in a black coat is walking in the street with a pair of black shoes ', 'A person in a suit is wearing a black coat and a black scarf ', 'A man in a black coat is walking in the street with a pair of black shoes ', 'A man in a black coat is walking down the street with his hands in his pockets ', 'A person in a black suit is wearing a black jacket and a black backpack ', 'A woman in a black coat is walking down the street with a pair of black shoes on her head ', 'A man in a black coat is wearing a black jacket and carrying a black bag ', 'A man in a black coat is wearing a black jacket and carrying a black bag ', 'A man in a black coat is walking down the street with his hands in his pockets ', 'A man in a black coat is walking on the road with his hands in his pockets ', 'A man with a black coat is walking down the street with his hands in his pockets ', 'A man in a black coat is walking down the street with a pair of black shoes on his head ', 'A man in a black coat is walking down the street with his hands in his pockets ', 'A man in a black coat is walking through the door of a car ', 'A man with a black coat is walking down the street with his hands in his pockets ', 'A man with a black coat is walking down the street with his hands in his pockets ', 'A man in a black coat is walking down the road with his hands in his pockets ', 'A man with a black coat is walking down the street with his hands in his pockets ', 'A man in a black coat is walking down the street with his hand on his backpack ', 'A man in a black coat is walking down the street with his hands in his pockets ', 'A man in a black coat is walking down the street with his hands in his pockets ', 'A man in a black coat is walking on the road with his hands in his pockets ', 'A person in a black suit is wearing a black jacket and a black backpack ', 'A man in a black coat is walking down the street with his hand on his backpack ', 'A man in a black suit is opening the door of a car ', 'A man in a black suit is opening the door of a car ', 'A man in a black coat is walking down the street with his hands in his pockets ', 'A person in a suit is wearing a black jacket and a black backpack ', 'A woman in a black coat is walking down the street with a pair of black shoes on her head ', 'A person in a suit is wearing a black jacket and a black backpack ', 'A man in a black coat is walking down the street with his hands in his pockets ', 'A man in a black coat is walking in the street with a pair of black shoes ', 'A man in a black coat is walking down the street with his hands in his pockets ', 'A man in a black coat is walking in the street with a pair of black shoes ', 'A man in a black suit is wearing a black jacket and black pants. He is carrying a pair of black scissors in his', 'A man in a black coat is walking in the street with a pair of black shoes ']\n"
     ]
    }
   ],
   "source": [
    "print(captions)"
   ]
  },
  {
   "cell_type": "code",
   "execution_count": 10,
   "id": "c22a5440",
   "metadata": {},
   "outputs": [
    {
     "name": "stdout",
     "output_type": "stream",
     "text": [
      "WARNING:tensorflow:No training configuration found in save file, so the model was *not* compiled. Compile it manually.\n",
      "5/5 [==============================] - 6s 197ms/step\n"
     ]
    }
   ],
   "source": [
    "#Create embeddings for all the descriptions\n",
    "embedding_model=tf.keras.models.load_model('Model_sentence_similarity')\n",
    "embeddings=list(embedding_model.predict(captions))"
   ]
  },
  {
   "cell_type": "code",
   "execution_count": 16,
   "id": "28721801",
   "metadata": {},
   "outputs": [
    {
     "name": "stdout",
     "output_type": "stream",
     "text": [
      "127\n"
     ]
    }
   ],
   "source": [
    "print(len(embeddings))"
   ]
  },
  {
   "cell_type": "code",
   "execution_count": 11,
   "id": "f0653e6b",
   "metadata": {},
   "outputs": [],
   "source": [
    "#Create gallery with descriptions for each person, those instances will be removed from the dataset.\n",
    "descriptions_gallery=list()\n",
    "embeddings_gallery=list()\n",
    "inds_gallery=list()\n",
    "for ind in range(len(all_person_ids)):\n",
    "    person=all_person_ids[ind]\n",
    "    all_indices_of_person = [i for i, item in enumerate(person_ids) if item==person]\n",
    "    inds_gallery+=[all_indices_of_person[0]]\n",
    "    descriptions_gallery+=[captions[all_indices_of_person[0]]]\n",
    "    embeddings_gallery+=[embeddings[all_indices_of_person[0]]]\n",
    "    del embeddings[all_indices_of_person[0]],full_images[all_indices_of_person[0]], person_ids[all_indices_of_person[0]], captions[all_indices_of_person[0]], ious[all_indices_of_person[0]]"
   ]
  },
  {
   "cell_type": "code",
   "execution_count": 12,
   "id": "67d307b9",
   "metadata": {},
   "outputs": [
    {
     "name": "stdout",
     "output_type": "stream",
     "text": [
      "['A woman in a black coat is walking down the street with her hands in her pockets ', 'A person in a black coat is walking in the street with a pair of black gloves on his shoulder ', 'A woman in a black coat is walking down the street with her hands in her pockets ', 'A man in a black coat is walking down the road with his hands in his pockets ', 'A person in a black coat is walking in the street with a pair of black gloves on his shoulder ', 'A woman in a black coat is walking down the street with a black bag on her head ', 'A man in a black coat is walking down the street with his hands in his pockets ', 'A man in a black coat is walking through the door of a car ', 'A man in a black suit is wearing a black jacket and black pants. He is carrying a pair of black scissors in his']\n"
     ]
    }
   ],
   "source": [
    "print(descriptions_gallery)"
   ]
  },
  {
   "cell_type": "code",
   "execution_count": 13,
   "id": "69699021",
   "metadata": {},
   "outputs": [],
   "source": [
    "def square_rooted(x):\n",
    "    return math.sqrt(sum([a*a for a in x]))\n",
    "\n",
    "def cosine_similarity_cal(x,y):\n",
    "    numerator = sum(a*b for a,b in zip(x,y))\n",
    "    denominator = square_rooted(x)*square_rooted(y)\n",
    "    return numerator/float(denominator)"
   ]
  },
  {
   "cell_type": "code",
   "execution_count": 14,
   "id": "81c4fd74",
   "metadata": {},
   "outputs": [],
   "source": [
    "#As a final step, we will compute cosine similarity between all embeddings in the data set and the gallery. \n",
    "#The predicted person ID will be the one with highest cosine similarity\n",
    "#If the predicted person matches the true label, we have a correct prediction (total_hits)\n",
    "predicted_person=['']*len(embeddings)\n",
    "total_hits=0\n",
    "for k in range(len(embeddings)):\n",
    "    cosine_similarityscore=np.zeros((len(embeddings_gallery),1))\n",
    "    for l in range(len(embeddings_gallery)):\n",
    "        cosine_similarityscore[l]=cosine_similarity_cal(embeddings[k],embeddings_gallery[l])\n",
    "    max_similarity_index=np.argmax(cosine_similarityscore)\n",
    "    predicted_person[k]=all_person_ids[max_similarity_index]\n",
    "    if predicted_person[k]==person_ids[k]:\n",
    "        total_hits+=1\n",
    "    "
   ]
  },
  {
   "cell_type": "code",
   "execution_count": 15,
   "id": "2d0cc2aa",
   "metadata": {},
   "outputs": [
    {
     "name": "stdout",
     "output_type": "stream",
     "text": [
      "0.13385826771653545\n"
     ]
    }
   ],
   "source": [
    "#Finally we can compute the accuracy of the model. \n",
    "#The accuracy is defined by the number of hits divided by the number of samples in the dataset. \n",
    "#Note that the base accuracy is 11,1% since there are 9 persons in the gallery. \n",
    "\n",
    "accuracy=total_hits/len(embeddings)\n",
    "print(accuracy)"
   ]
  },
  {
   "cell_type": "markdown",
   "id": "0e5af94a",
   "metadata": {},
   "source": [
    "Final accuracy 13,4%"
   ]
  },
  {
   "cell_type": "code",
   "execution_count": 17,
   "id": "8912107b",
   "metadata": {},
   "outputs": [
    {
     "name": "stdout",
     "output_type": "stream",
     "text": [
      "17\n"
     ]
    }
   ],
   "source": [
    "print(total_hits)"
   ]
  },
  {
   "cell_type": "code",
   "execution_count": null,
   "id": "f1457a99",
   "metadata": {},
   "outputs": [],
   "source": []
  }
 ],
 "metadata": {
  "kernelspec": {
   "display_name": "maibi_cv",
   "language": "python",
   "name": "maibi_cv"
  },
  "language_info": {
   "codemirror_mode": {
    "name": "ipython",
    "version": 3
   },
   "file_extension": ".py",
   "mimetype": "text/x-python",
   "name": "python",
   "nbconvert_exporter": "python",
   "pygments_lexer": "ipython3",
   "version": "3.9.12"
  }
 },
 "nbformat": 4,
 "nbformat_minor": 5
}
