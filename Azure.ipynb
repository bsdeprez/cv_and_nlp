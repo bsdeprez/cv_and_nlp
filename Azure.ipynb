{
 "cells": [
  {
   "cell_type": "code",
   "execution_count": null,
   "id": "5e663317",
   "metadata": {},
   "outputs": [],
   "source": [
    "#Azure code to get descriptive identification of a person!\n",
    "import os\n",
    "import requests\n",
    "from PIL import Image\n",
    "from io import BytesIO\n",
    "import openai\n",
    "import torch\n",
    "import numpy as np\n",
    "import base64\n",
    "import matplotlib.pyplot as plt\n",
    "import tqdm\n",
    "import matplotlib.patches as patches\n",
    "from azure.cognitiveservices.vision.computervision import ComputerVisionClient\n",
    "from azure.cognitiveservices.vision.computervision.models import VisualFeatureTypes\n",
    "from msrest.authentication import CognitiveServicesCredentials"
   ]
  },
  {
   "cell_type": "code",
   "execution_count": null,
   "id": "f0bb6feb",
   "metadata": {},
   "outputs": [],
   "source": [
    "from striprtf.striprtf import rtf_to_text\n",
    "with open(\"subscription_key.rtf\") as infile:\n",
    "    content = infile.read()\n",
    "    text = rtf_to_text(content)"
   ]
  },
  {
   "cell_type": "code",
   "execution_count": null,
   "id": "ddfbeed5",
   "metadata": {},
   "outputs": [],
   "source": [
    "# Set up OpenAI API credentials\n",
    "subscription_key = _________\n",
    "endpoint = _________________\n",
    "\n",
    "image_path = \"IMAGE_OUTPUT_PATH/GOPR0647\"\n",
    "azure_cv = ComputerVisionClient(endpoint,CognitiveServicesCredentials(subscription_key))\n",
    "\n",
    "image = open(image_path, \"rb\")\n",
    "display(Image.open(image_path))\n",
    "\n",
    "result_descr = azure_cv.describe_image_in_stream(image)\n",
    "print(\"Description\")\n",
    "\n",
    "    \n",
    "if (len(result_descr.captions) == 0):\n",
    "    print(\"No description detected.\")\n",
    "else:\n",
    "    for caption in result_descr.captions:\n",
    "        print(f\"{caption.text} with confidence {caption.confidence * 100:.2f}%\")"
   ]
  },
  {
   "cell_type": "code",
   "execution_count": null,
   "id": "c243b8be",
   "metadata": {},
   "outputs": [],
   "source": [
    "image_path = \"test_set/0003_c7_0013.jpg\"\n",
    "computervision_client = ComputerVisionClient(endpoint,CognitiveServicesCredentials(subscription_key))\n",
    "\n",
    "image = open(image_path, \"rb\")\n",
    "\n",
    "tag = computervision_client.tag_image_in_stream(image)\n",
    "print(\"Tags:\")\n",
    "if (len(tag.tags) == 0):\n",
    "    print(\"No tags detected.\")\n",
    "else:\n",
    "    for tag in tag.tags:\n",
    "        print(f\"{tag.name}: {tag.confidence * 100:.2f}%\")"
   ]
  },
  {
   "cell_type": "code",
   "execution_count": null,
   "id": "64e42af1",
   "metadata": {},
   "outputs": [],
   "source": [
    "image = open(image_path, \"rb\")\n",
    "img = Image.open(image_path)\n",
    "\n",
    "object_res = computervision_client.detect_objects_in_stream(image)\n",
    "\n",
    "fig, ax = plt.subplots()\n",
    "\n",
    "ax.imshow(img)\n",
    "print(\"Objects in image:\")\n",
    "if len(object_res.objects) == 0:\n",
    "    print(\"No objects.\")\n",
    "    \n",
    "else:\n",
    "    for object in object_res.objects:\n",
    "        print(object.object_property)\n",
    "        rect = patches.Rectangle((object.rectangle.x, object.rectangle.y), object.rectangle.w, object.rectangle.h, linewidth=2, edgecolor='r', facecolor='none')\n",
    "        ax.add_patch(rect)\n",
    "plt.show()"
   ]
  },
  {
   "cell_type": "code",
   "execution_count": null,
   "id": "7ab7998f",
   "metadata": {},
   "outputs": [],
   "source": [
    "image = open(image_path, \"rb\")\n",
    "display(Image.open(image_path))\n",
    "category_result = computervision_client.analyze_image_in_stream(image)\n",
    "print(\"Categories:\")\n",
    "if (len(category_result.categories) == 0):\n",
    "    print(\"No categories detected.\")\n",
    "else:\n",
    "    for category in category_result.categories:\n",
    "        print(f\"{category.name}: {category.score * 100:.2f}%\")"
   ]
  }
 ],
 "metadata": {
  "kernelspec": {
   "display_name": "Python 3 (ipykernel)",
   "language": "python",
   "name": "python3"
  },
  "language_info": {
   "codemirror_mode": {
    "name": "ipython",
    "version": 3
   },
   "file_extension": ".py",
   "mimetype": "text/x-python",
   "name": "python",
   "nbconvert_exporter": "python",
   "pygments_lexer": "ipython3",
   "version": "3.8.13"
  }
 },
 "nbformat": 4,
 "nbformat_minor": 5
}
